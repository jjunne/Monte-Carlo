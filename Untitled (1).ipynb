{
 "cells": [
  {
   "cell_type": "code",
   "execution_count": 3,
   "metadata": {},
   "outputs": [],
   "source": [
    "import numpy as np\n",
    "from sympy import *\n",
    "import mpmath"
   ]
  },
  {
   "cell_type": "code",
   "execution_count": 5,
   "metadata": {},
   "outputs": [],
   "source": [
    "init_printing()"
   ]
  },
  {
   "cell_type": "code",
   "execution_count": 6,
   "metadata": {},
   "outputs": [],
   "source": [
    "p11, p12, p22, p13, p23, p33, p14, p24, p34, p44 = symbols('φ_11 φ_12 φ_22 φ_13 φ_23 φ_33 φ_14 φ_24 φ_34 φ_44')\n",
    "t12, t13, t23, t14, t24, t34 = symbols('θ_12 θ_13 θ_23 θ_14 θ_24 θ_34')"
   ]
  },
  {
   "cell_type": "code",
   "execution_count": 7,
   "metadata": {},
   "outputs": [
    {
     "data": {
      "text/latex": [
       "$$\\left[\\begin{matrix}e^{i φ_{12}} \\cos{\\left (θ_{12} \\right )} & e^{i φ_{12}} \\sin{\\left (θ_{12} \\right )}\\\\- e^{i φ_{22}} \\sin{\\left (θ_{12} \\right )} & e^{i φ_{22}} \\cos{\\left (θ_{12} \\right )}\\end{matrix}\\right]$$"
      ],
      "text/plain": [
       "⎡ ⅈ⋅φ₁₂             ⅈ⋅φ₁₂         ⎤\n",
       "⎢ℯ     ⋅cos(θ₁₂)   ℯ     ⋅sin(θ₁₂)⎥\n",
       "⎢                                 ⎥\n",
       "⎢  ⅈ⋅φ₂₂            ⅈ⋅φ₂₂         ⎥\n",
       "⎣-ℯ     ⋅sin(θ₁₂)  ℯ     ⋅cos(θ₁₂)⎦"
      ]
     },
     "execution_count": 7,
     "metadata": {},
     "output_type": "execute_result"
    }
   ],
   "source": [
    "m1 =  Matrix([[exp(I*p12)*cos(t12),exp(I*p12)*sin(t12)],[-exp(I*p22)*sin(t12),exp(I*p22)*cos(t12)]])\n",
    "m1"
   ]
  },
  {
   "cell_type": "code",
   "execution_count": 8,
   "metadata": {},
   "outputs": [
    {
     "data": {
      "image/png": "[encoded data removed]",
      "text/latex": [
       "$$e^{i φ_{11}}$$"
      ],
      "text/plain": [
       " ⅈ⋅φ₁₁\n",
       "ℯ     "
      ]
     },
     "execution_count": 8,
     "metadata": {},
     "output_type": "execute_result"
    }
   ],
   "source": [
    "phi1 =exp(I*p11)\n",
    "phi1"
   ]
  },
  {
   "cell_type": "code",
   "execution_count": 9,
   "metadata": {},
   "outputs": [
    {
     "data": {
      "text/latex": [
       "$$\\left[\\begin{matrix}e^{i φ_{11}} e^{i φ_{12}} \\cos{\\left (θ_{12} \\right )} & e^{i φ_{12}} \\sin{\\left (θ_{12} \\right )}\\\\- e^{i φ_{11}} e^{i φ_{22}} \\sin{\\left (θ_{12} \\right )} & e^{i φ_{22}} \\cos{\\left (θ_{12} \\right )}\\end{matrix}\\right]$$"
      ],
      "text/plain": [
       "⎡ ⅈ⋅φ₁₁  ⅈ⋅φ₁₂             ⅈ⋅φ₁₂         ⎤\n",
       "⎢ℯ     ⋅ℯ     ⋅cos(θ₁₂)   ℯ     ⋅sin(θ₁₂)⎥\n",
       "⎢                                        ⎥\n",
       "⎢  ⅈ⋅φ₁₁  ⅈ⋅φ₂₂            ⅈ⋅φ₂₂         ⎥\n",
       "⎣-ℯ     ⋅ℯ     ⋅sin(θ₁₂)  ℯ     ⋅cos(θ₁₂)⎦"
      ]
     },
     "execution_count": 9,
     "metadata": {},
     "output_type": "execute_result"
    }
   ],
   "source": [
    "phi2 = m1*Matrix([[phi1,0],[0,1]])\n",
    "phi2"
   ]
  },
  {
   "cell_type": "code",
   "execution_count": 10,
   "metadata": {},
   "outputs": [
    {
     "data": {
      "text/latex": [
       "$$\\left[\\begin{matrix}e^{i φ_{13}} \\cos{\\left (θ_{13} \\right )} & e^{i φ_{13}} \\sin{\\left (θ_{13} \\right )} \\cos{\\left (θ_{23} \\right )} & e^{i φ_{13}} \\sin{\\left (θ_{13} \\right )} \\sin{\\left (θ_{23} \\right )}\\\\- e^{i φ_{23}} \\sin{\\left (θ_{13} \\right )} & e^{i φ_{23}} \\cos{\\left (θ_{13} \\right )} \\cos{\\left (θ_{23} \\right )} & e^{i φ_{23}} \\sin{\\left (θ_{23} \\right )} \\cos{\\left (θ_{13} \\right )}\\\\0 & - e^{i φ_{33}} \\sin{\\left (θ_{23} \\right )} & e^{i φ_{33}} \\cos{\\left (θ_{23} \\right )}\\end{matrix}\\right]$$"
      ],
      "text/plain": [
       "⎡ ⅈ⋅φ₁₃             ⅈ⋅φ₁₃                     ⅈ⋅φ₁₃                  ⎤\n",
       "⎢ℯ     ⋅cos(θ₁₃)   ℯ     ⋅sin(θ₁₃)⋅cos(θ₂₃)  ℯ     ⋅sin(θ₁₃)⋅sin(θ₂₃)⎥\n",
       "⎢                                                                    ⎥\n",
       "⎢  ⅈ⋅φ₂₃            ⅈ⋅φ₂₃                     ⅈ⋅φ₂₃                  ⎥\n",
       "⎢-ℯ     ⋅sin(θ₁₃)  ℯ     ⋅cos(θ₁₃)⋅cos(θ₂₃)  ℯ     ⋅sin(θ₂₃)⋅cos(θ₁₃)⎥\n",
       "⎢                                                                    ⎥\n",
       "⎢                        ⅈ⋅φ₃₃                    ⅈ⋅φ₃₃              ⎥\n",
       "⎣       0              -ℯ     ⋅sin(θ₂₃)          ℯ     ⋅cos(θ₂₃)     ⎦"
      ]
     },
     "execution_count": 10,
     "metadata": {},
     "output_type": "execute_result"
    }
   ],
   "source": [
    "m2 = Matrix([[exp(I*p13)*cos(t13),exp(I*p13)*sin(t13)*cos(t23),exp(I*p13)*sin(t13)*sin(t23)],[-exp(I*p23)*sin(t13),exp(I*p23)*cos(t13)*cos(t23),exp(I*p23)*cos(t13)*sin(t23)],[0,-exp(I*p33)*sin(t23),exp(I*p33)*cos(t23)]])\n",
    "m2"
   ]
  },
  {
   "cell_type": "code",
   "execution_count": 11,
   "metadata": {},
   "outputs": [
    {
     "data": {
      "text/latex": [
       "$$\\left[\\begin{matrix}e^{i φ_{11}} e^{i φ_{12}} e^{i φ_{13}} \\cos{\\left (θ_{12} \\right )} \\cos{\\left (θ_{13} \\right )} - e^{i φ_{11}} e^{i φ_{13}} e^{i φ_{22}} \\sin{\\left (θ_{12} \\right )} \\sin{\\left (θ_{13} \\right )} \\cos{\\left (θ_{23} \\right )} & e^{i φ_{12}} e^{i φ_{13}} \\sin{\\left (θ_{12} \\right )} \\cos{\\left (θ_{13} \\right )} + e^{i φ_{13}} e^{i φ_{22}} \\sin{\\left (θ_{13} \\right )} \\cos{\\left (θ_{12} \\right )} \\cos{\\left (θ_{23} \\right )} & e^{i φ_{13}} \\sin{\\left (θ_{13} \\right )} \\sin{\\left (θ_{23} \\right )}\\\\- e^{i φ_{11}} e^{i φ_{12}} e^{i φ_{23}} \\sin{\\left (θ_{13} \\right )} \\cos{\\left (θ_{12} \\right )} - e^{i φ_{11}} e^{i φ_{22}} e^{i φ_{23}} \\sin{\\left (θ_{12} \\right )} \\cos{\\left (θ_{13} \\right )} \\cos{\\left (θ_{23} \\right )} & - e^{i φ_{12}} e^{i φ_{23}} \\sin{\\left (θ_{12} \\right )} \\sin{\\left (θ_{13} \\right )} + e^{i φ_{22}} e^{i φ_{23}} \\cos{\\left (θ_{12} \\right )} \\cos{\\left (θ_{13} \\right )} \\cos{\\left (θ_{23} \\right )} & e^{i φ_{23}} \\sin{\\left (θ_{23} \\right )} \\cos{\\left (θ_{13} \\right )}\\\\e^{i φ_{11}} e^{i φ_{22}} e^{i φ_{33}} \\sin{\\left (θ_{12} \\right )} \\sin{\\left (θ_{23} \\right )} & - e^{i φ_{22}} e^{i φ_{33}} \\sin{\\left (θ_{23} \\right )} \\cos{\\left (θ_{12} \\right )} & e^{i φ_{33}} \\cos{\\left (θ_{23} \\right )}\\end{matrix}\\right]$$"
      ],
      "text/plain": [
       "⎡  ⅈ⋅φ₁₁  ⅈ⋅φ₁₂  ⅈ⋅φ₁₃                      ⅈ⋅φ₁₁  ⅈ⋅φ₁₃  ⅈ⋅φ₂₂               \n",
       "⎢ ℯ     ⋅ℯ     ⋅ℯ     ⋅cos(θ₁₂)⋅cos(θ₁₃) - ℯ     ⋅ℯ     ⋅ℯ     ⋅sin(θ₁₂)⋅sin(θ\n",
       "⎢                                                                             \n",
       "⎢   ⅈ⋅φ₁₁  ⅈ⋅φ₁₂  ⅈ⋅φ₂₃                      ⅈ⋅φ₁₁  ⅈ⋅φ₂₂  ⅈ⋅φ₂₃              \n",
       "⎢- ℯ     ⋅ℯ     ⋅ℯ     ⋅sin(θ₁₃)⋅cos(θ₁₂) - ℯ     ⋅ℯ     ⋅ℯ     ⋅sin(θ₁₂)⋅cos(\n",
       "⎢                                                                             \n",
       "⎢                           ⅈ⋅φ₁₁  ⅈ⋅φ₂₂  ⅈ⋅φ₃₃                               \n",
       "⎣                          ℯ     ⋅ℯ     ⋅ℯ     ⋅sin(θ₁₂)⋅sin(θ₂₃)             \n",
       "\n",
       "                 ⅈ⋅φ₁₂  ⅈ⋅φ₁₃                      ⅈ⋅φ₁₃  ⅈ⋅φ₂₂               \n",
       "₁₃)⋅cos(θ₂₃)    ℯ     ⋅ℯ     ⋅sin(θ₁₂)⋅cos(θ₁₃) + ℯ     ⋅ℯ     ⋅sin(θ₁₃)⋅cos(θ\n",
       "                                                                              \n",
       "                  ⅈ⋅φ₁₂  ⅈ⋅φ₂₃                      ⅈ⋅φ₂₂  ⅈ⋅φ₂₃              \n",
       "θ₁₃)⋅cos(θ₂₃)  - ℯ     ⋅ℯ     ⋅sin(θ₁₂)⋅sin(θ₁₃) + ℯ     ⋅ℯ     ⋅cos(θ₁₂)⋅cos(\n",
       "                                                                              \n",
       "                                       ⅈ⋅φ₂₂  ⅈ⋅φ₃₃                           \n",
       "                                     -ℯ     ⋅ℯ     ⋅sin(θ₂₃)⋅cos(θ₁₂)         \n",
       "\n",
       "                ⅈ⋅φ₁₃                  ⎤\n",
       "₁₂)⋅cos(θ₂₃)   ℯ     ⋅sin(θ₁₃)⋅sin(θ₂₃)⎥\n",
       "                                       ⎥\n",
       "                ⅈ⋅φ₂₃                  ⎥\n",
       "θ₁₃)⋅cos(θ₂₃)  ℯ     ⋅sin(θ₂₃)⋅cos(θ₁₃)⎥\n",
       "                                       ⎥\n",
       "                    ⅈ⋅φ₃₃              ⎥\n",
       "                   ℯ     ⋅cos(θ₂₃)     ⎦"
      ]
     },
     "execution_count": 11,
     "metadata": {},
     "output_type": "execute_result"
    }
   ],
   "source": [
    "phi3 = m2*Matrix([[phi2.row(0)[0],phi2.row(0)[1],0],[phi2.row(1)[0],phi2.row(1)[1],0],[0,0,1]])\n",
    "phi3"
   ]
  },
  {
   "cell_type": "code",
   "execution_count": 12,
   "metadata": {},
   "outputs": [
    {
     "data": {
      "text/latex": [
       "$$\\left[\\begin{matrix}e^{i φ_{14}} \\cos{\\left (θ_{14} \\right )} & e^{i φ_{14}} \\sin{\\left (θ_{14} \\right )} \\cos{\\left (θ_{24} \\right )} & e^{i φ_{14}} \\sin{\\left (θ_{14} \\right )} \\sin{\\left (θ_{24} \\right )} \\cos{\\left (θ_{34} \\right )} & e^{i φ_{14}} \\sin{\\left (θ_{14} \\right )} \\sin{\\left (θ_{24} \\right )} \\sin{\\left (θ_{34} \\right )}\\\\- e^{i φ_{24}} \\sin{\\left (θ_{14} \\right )} & e^{i φ_{24}} \\cos{\\left (θ_{14} \\right )} \\cos{\\left (θ_{24} \\right )} & e^{i φ_{24}} \\sin{\\left (θ_{24} \\right )} \\cos{\\left (θ_{14} \\right )} \\cos{\\left (θ_{34} \\right )} & e^{i φ_{24}} \\sin{\\left (θ_{24} \\right )} \\sin{\\left (θ_{34} \\right )} \\cos{\\left (θ_{14} \\right )}\\\\0 & - e^{i φ_{34}} \\sin{\\left (θ_{24} \\right )} & e^{i φ_{34}} \\cos{\\left (θ_{24} \\right )} \\cos{\\left (θ_{34} \\right )} & e^{i φ_{34}} \\sin{\\left (θ_{34} \\right )} \\cos{\\left (θ_{24} \\right )}\\\\0 & 0 & e^{i φ_{44}} \\cos{\\left (θ_{34} \\right )} & e^{i φ_{44}} \\sin{\\left (θ_{34} \\right )}\\end{matrix}\\right]$$"
      ],
      "text/plain": [
       "⎡ ⅈ⋅φ₁₄             ⅈ⋅φ₁₄                     ⅈ⋅φ₁₄                           \n",
       "⎢ℯ     ⋅cos(θ₁₄)   ℯ     ⋅sin(θ₁₄)⋅cos(θ₂₄)  ℯ     ⋅sin(θ₁₄)⋅sin(θ₂₄)⋅cos(θ₃₄)\n",
       "⎢                                                                             \n",
       "⎢  ⅈ⋅φ₂₄            ⅈ⋅φ₂₄                     ⅈ⋅φ₂₄                           \n",
       "⎢-ℯ     ⋅sin(θ₁₄)  ℯ     ⋅cos(θ₁₄)⋅cos(θ₂₄)  ℯ     ⋅sin(θ₂₄)⋅cos(θ₁₄)⋅cos(θ₃₄)\n",
       "⎢                                                                             \n",
       "⎢                        ⅈ⋅φ₃₄                    ⅈ⋅φ₃₄                       \n",
       "⎢       0              -ℯ     ⋅sin(θ₂₄)          ℯ     ⋅cos(θ₂₄)⋅cos(θ₃₄)     \n",
       "⎢                                                                             \n",
       "⎢                                                      ⅈ⋅φ₄₄                  \n",
       "⎣       0                     0                       ℯ     ⋅cos(θ₃₄)         \n",
       "\n",
       "   ⅈ⋅φ₁₄                           ⎤\n",
       "  ℯ     ⋅sin(θ₁₄)⋅sin(θ₂₄)⋅sin(θ₃₄)⎥\n",
       "                                   ⎥\n",
       "   ⅈ⋅φ₂₄                           ⎥\n",
       "  ℯ     ⋅sin(θ₂₄)⋅sin(θ₃₄)⋅cos(θ₁₄)⎥\n",
       "                                   ⎥\n",
       "       ⅈ⋅φ₃₄                       ⎥\n",
       "      ℯ     ⋅sin(θ₃₄)⋅cos(θ₂₄)     ⎥\n",
       "                                   ⎥\n",
       "            ⅈ⋅φ₄₄                  ⎥\n",
       "           ℯ     ⋅sin(θ₃₄)         ⎦"
      ]
     },
     "execution_count": 12,
     "metadata": {},
     "output_type": "execute_result"
    }
   ],
   "source": [
    "m3 = Matrix([[exp(I*p14)*cos(t14),exp(I*p14)*sin(t14)*cos(t24),exp(I*p14)*sin(t14)*sin(t24)*cos(t34),exp(I*p14)*sin(t14)*sin(t24)*sin(t34)],[-exp(I*p24)*sin(t14),exp(I*p24)*cos(t14)*cos(t24),exp(I*p24)*cos(t14)*sin(t24)*cos(t34),exp(I*p24)*cos(t14)*sin(t24)*sin(t34)],[0,-exp(I*p34)*sin(t24),exp(I*p34)*cos(t24)*cos(t34),exp(I*p34)*cos(t24)*sin(t34)],[0,0,exp(I*p44)*cos(t34),exp(I*p44)*sin(t34)]])\n",
    "m3"
   ]
  },
  {
   "cell_type": "code",
   "execution_count": 13,
   "metadata": {},
   "outputs": [
    {
     "data": {
      "text/latex": [
       "$$\\left[\\begin{matrix}\\left(e^{i φ_{11}} e^{i φ_{12}} e^{i φ_{13}} \\cos{\\left (θ_{12} \\right )} \\cos{\\left (θ_{13} \\right )} - e^{i φ_{11}} e^{i φ_{13}} e^{i φ_{22}} \\sin{\\left (θ_{12} \\right )} \\sin{\\left (θ_{13} \\right )} \\cos{\\left (θ_{23} \\right )}\\right) e^{i φ_{14}} \\cos{\\left (θ_{14} \\right )} + \\left(- e^{i φ_{11}} e^{i φ_{12}} e^{i φ_{23}} \\sin{\\left (θ_{13} \\right )} \\cos{\\left (θ_{12} \\right )} - e^{i φ_{11}} e^{i φ_{22}} e^{i φ_{23}} \\sin{\\left (θ_{12} \\right )} \\cos{\\left (θ_{13} \\right )} \\cos{\\left (θ_{23} \\right )}\\right) e^{i φ_{14}} \\sin{\\left (θ_{14} \\right )} \\cos{\\left (θ_{24} \\right )} + e^{i φ_{11}} e^{i φ_{14}} e^{i φ_{22}} e^{i φ_{33}} \\sin{\\left (θ_{12} \\right )} \\sin{\\left (θ_{14} \\right )} \\sin{\\left (θ_{23} \\right )} \\sin{\\left (θ_{24} \\right )} \\cos{\\left (θ_{34} \\right )} & \\left(e^{i φ_{12}} e^{i φ_{13}} \\sin{\\left (θ_{12} \\right )} \\cos{\\left (θ_{13} \\right )} + e^{i φ_{13}} e^{i φ_{22}} \\sin{\\left (θ_{13} \\right )} \\cos{\\left (θ_{12} \\right )} \\cos{\\left (θ_{23} \\right )}\\right) e^{i φ_{14}} \\cos{\\left (θ_{14} \\right )} + \\left(- e^{i φ_{12}} e^{i φ_{23}} \\sin{\\left (θ_{12} \\right )} \\sin{\\left (θ_{13} \\right )} + e^{i φ_{22}} e^{i φ_{23}} \\cos{\\left (θ_{12} \\right )} \\cos{\\left (θ_{13} \\right )} \\cos{\\left (θ_{23} \\right )}\\right) e^{i φ_{14}} \\sin{\\left (θ_{14} \\right )} \\cos{\\left (θ_{24} \\right )} - e^{i φ_{14}} e^{i φ_{22}} e^{i φ_{33}} \\sin{\\left (θ_{14} \\right )} \\sin{\\left (θ_{23} \\right )} \\sin{\\left (θ_{24} \\right )} \\cos{\\left (θ_{12} \\right )} \\cos{\\left (θ_{34} \\right )} & e^{i φ_{13}} e^{i φ_{14}} \\sin{\\left (θ_{13} \\right )} \\sin{\\left (θ_{23} \\right )} \\cos{\\left (θ_{14} \\right )} + e^{i φ_{14}} e^{i φ_{23}} \\sin{\\left (θ_{14} \\right )} \\sin{\\left (θ_{23} \\right )} \\cos{\\left (θ_{13} \\right )} \\cos{\\left (θ_{24} \\right )} + e^{i φ_{14}} e^{i φ_{33}} \\sin{\\left (θ_{14} \\right )} \\sin{\\left (θ_{24} \\right )} \\cos{\\left (θ_{23} \\right )} \\cos{\\left (θ_{34} \\right )} & e^{i φ_{14}} \\sin{\\left (θ_{14} \\right )} \\sin{\\left (θ_{24} \\right )} \\sin{\\left (θ_{34} \\right )}\\\\- \\left(e^{i φ_{11}} e^{i φ_{12}} e^{i φ_{13}} \\cos{\\left (θ_{12} \\right )} \\cos{\\left (θ_{13} \\right )} - e^{i φ_{11}} e^{i φ_{13}} e^{i φ_{22}} \\sin{\\left (θ_{12} \\right )} \\sin{\\left (θ_{13} \\right )} \\cos{\\left (θ_{23} \\right )}\\right) e^{i φ_{24}} \\sin{\\left (θ_{14} \\right )} + \\left(- e^{i φ_{11}} e^{i φ_{12}} e^{i φ_{23}} \\sin{\\left (θ_{13} \\right )} \\cos{\\left (θ_{12} \\right )} - e^{i φ_{11}} e^{i φ_{22}} e^{i φ_{23}} \\sin{\\left (θ_{12} \\right )} \\cos{\\left (θ_{13} \\right )} \\cos{\\left (θ_{23} \\right )}\\right) e^{i φ_{24}} \\cos{\\left (θ_{14} \\right )} \\cos{\\left (θ_{24} \\right )} + e^{i φ_{11}} e^{i φ_{22}} e^{i φ_{24}} e^{i φ_{33}} \\sin{\\left (θ_{12} \\right )} \\sin{\\left (θ_{23} \\right )} \\sin{\\left (θ_{24} \\right )} \\cos{\\left (θ_{14} \\right )} \\cos{\\left (θ_{34} \\right )} & - \\left(e^{i φ_{12}} e^{i φ_{13}} \\sin{\\left (θ_{12} \\right )} \\cos{\\left (θ_{13} \\right )} + e^{i φ_{13}} e^{i φ_{22}} \\sin{\\left (θ_{13} \\right )} \\cos{\\left (θ_{12} \\right )} \\cos{\\left (θ_{23} \\right )}\\right) e^{i φ_{24}} \\sin{\\left (θ_{14} \\right )} + \\left(- e^{i φ_{12}} e^{i φ_{23}} \\sin{\\left (θ_{12} \\right )} \\sin{\\left (θ_{13} \\right )} + e^{i φ_{22}} e^{i φ_{23}} \\cos{\\left (θ_{12} \\right )} \\cos{\\left (θ_{13} \\right )} \\cos{\\left (θ_{23} \\right )}\\right) e^{i φ_{24}} \\cos{\\left (θ_{14} \\right )} \\cos{\\left (θ_{24} \\right )} - e^{i φ_{22}} e^{i φ_{24}} e^{i φ_{33}} \\sin{\\left (θ_{23} \\right )} \\sin{\\left (θ_{24} \\right )} \\cos{\\left (θ_{12} \\right )} \\cos{\\left (θ_{14} \\right )} \\cos{\\left (θ_{34} \\right )} & - e^{i φ_{13}} e^{i φ_{24}} \\sin{\\left (θ_{13} \\right )} \\sin{\\left (θ_{14} \\right )} \\sin{\\left (θ_{23} \\right )} + e^{i φ_{23}} e^{i φ_{24}} \\sin{\\left (θ_{23} \\right )} \\cos{\\left (θ_{13} \\right )} \\cos{\\left (θ_{14} \\right )} \\cos{\\left (θ_{24} \\right )} + e^{i φ_{24}} e^{i φ_{33}} \\sin{\\left (θ_{24} \\right )} \\cos{\\left (θ_{14} \\right )} \\cos{\\left (θ_{23} \\right )} \\cos{\\left (θ_{34} \\right )} & e^{i φ_{24}} \\sin{\\left (θ_{24} \\right )} \\sin{\\left (θ_{34} \\right )} \\cos{\\left (θ_{14} \\right )}\\\\- \\left(- e^{i φ_{11}} e^{i φ_{12}} e^{i φ_{23}} \\sin{\\left (θ_{13} \\right )} \\cos{\\left (θ_{12} \\right )} - e^{i φ_{11}} e^{i φ_{22}} e^{i φ_{23}} \\sin{\\left (θ_{12} \\right )} \\cos{\\left (θ_{13} \\right )} \\cos{\\left (θ_{23} \\right )}\\right) e^{i φ_{34}} \\sin{\\left (θ_{24} \\right )} + e^{i φ_{11}} e^{i φ_{22}} e^{i φ_{33}} e^{i φ_{34}} \\sin{\\left (θ_{12} \\right )} \\sin{\\left (θ_{23} \\right )} \\cos{\\left (θ_{24} \\right )} \\cos{\\left (θ_{34} \\right )} & - \\left(- e^{i φ_{12}} e^{i φ_{23}} \\sin{\\left (θ_{12} \\right )} \\sin{\\left (θ_{13} \\right )} + e^{i φ_{22}} e^{i φ_{23}} \\cos{\\left (θ_{12} \\right )} \\cos{\\left (θ_{13} \\right )} \\cos{\\left (θ_{23} \\right )}\\right) e^{i φ_{34}} \\sin{\\left (θ_{24} \\right )} - e^{i φ_{22}} e^{i φ_{33}} e^{i φ_{34}} \\sin{\\left (θ_{23} \\right )} \\cos{\\left (θ_{12} \\right )} \\cos{\\left (θ_{24} \\right )} \\cos{\\left (θ_{34} \\right )} & - e^{i φ_{23}} e^{i φ_{34}} \\sin{\\left (θ_{23} \\right )} \\sin{\\left (θ_{24} \\right )} \\cos{\\left (θ_{13} \\right )} + e^{i φ_{33}} e^{i φ_{34}} \\cos{\\left (θ_{23} \\right )} \\cos{\\left (θ_{24} \\right )} \\cos{\\left (θ_{34} \\right )} & e^{i φ_{34}} \\sin{\\left (θ_{34} \\right )} \\cos{\\left (θ_{24} \\right )}\\\\e^{i φ_{11}} e^{i φ_{22}} e^{i φ_{33}} e^{i φ_{44}} \\sin{\\left (θ_{12} \\right )} \\sin{\\left (θ_{23} \\right )} \\cos{\\left (θ_{34} \\right )} & - e^{i φ_{22}} e^{i φ_{33}} e^{i φ_{44}} \\sin{\\left (θ_{23} \\right )} \\cos{\\left (θ_{12} \\right )} \\cos{\\left (θ_{34} \\right )} & e^{i φ_{33}} e^{i φ_{44}} \\cos{\\left (θ_{23} \\right )} \\cos{\\left (θ_{34} \\right )} & e^{i φ_{44}} \\sin{\\left (θ_{34} \\right )}\\end{matrix}\\right]$$"
      ],
      "text/plain": [
       "⎡ ⎛ ⅈ⋅φ₁₁  ⅈ⋅φ₁₂  ⅈ⋅φ₁₃                      ⅈ⋅φ₁₁  ⅈ⋅φ₁₃  ⅈ⋅φ₂₂              \n",
       "⎢ ⎝ℯ     ⋅ℯ     ⋅ℯ     ⋅cos(θ₁₂)⋅cos(θ₁₃) - ℯ     ⋅ℯ     ⋅ℯ     ⋅sin(θ₁₂)⋅sin(\n",
       "⎢                                                                             \n",
       "⎢  ⎛ ⅈ⋅φ₁₁  ⅈ⋅φ₁₂  ⅈ⋅φ₁₃                      ⅈ⋅φ₁₁  ⅈ⋅φ₁₃  ⅈ⋅φ₂₂             \n",
       "⎢- ⎝ℯ     ⋅ℯ     ⋅ℯ     ⋅cos(θ₁₂)⋅cos(θ₁₃) - ℯ     ⋅ℯ     ⋅ℯ     ⋅sin(θ₁₂)⋅sin\n",
       "⎢                                                                             \n",
       "⎢                                                                 ⎛   ⅈ⋅φ₁₁  ⅈ\n",
       "⎢                                                               - ⎝- ℯ     ⋅ℯ \n",
       "⎢                                                                             \n",
       "⎢                                                                             \n",
       "⎣                                                                             \n",
       "\n",
       "             ⎞  ⅈ⋅φ₁₄            ⎛   ⅈ⋅φ₁₁  ⅈ⋅φ₁₂  ⅈ⋅φ₂₃                      \n",
       "θ₁₃)⋅cos(θ₂₃)⎠⋅ℯ     ⋅cos(θ₁₄) + ⎝- ℯ     ⋅ℯ     ⋅ℯ     ⋅sin(θ₁₃)⋅cos(θ₁₂) - ℯ\n",
       "                                                                              \n",
       "              ⎞  ⅈ⋅φ₂₄            ⎛   ⅈ⋅φ₁₁  ⅈ⋅φ₁₂  ⅈ⋅φ₂₃                     \n",
       "(θ₁₃)⋅cos(θ₂₃)⎠⋅ℯ     ⋅sin(θ₁₄) + ⎝- ℯ     ⋅ℯ     ⋅ℯ     ⋅sin(θ₁₃)⋅cos(θ₁₂) - \n",
       "                                                                              \n",
       "⋅φ₁₂  ⅈ⋅φ₂₃                      ⅈ⋅φ₁₁  ⅈ⋅φ₂₂  ⅈ⋅φ₂₃                          \n",
       "    ⋅ℯ     ⋅sin(θ₁₃)⋅cos(θ₁₂) - ℯ     ⋅ℯ     ⋅ℯ     ⋅sin(θ₁₂)⋅cos(θ₁₃)⋅cos(θ₂₃\n",
       "                                                                              \n",
       "                                                ⅈ⋅φ₁₁  ⅈ⋅φ₂₂  ⅈ⋅φ₃₃  ⅈ⋅φ₄₄    \n",
       "                                               ℯ     ⋅ℯ     ⋅ℯ     ⋅ℯ     ⋅sin\n",
       "\n",
       "ⅈ⋅φ₁₁  ⅈ⋅φ₂₂  ⅈ⋅φ₂₃                           ⎞  ⅈ⋅φ₁₄                      ⅈ⋅\n",
       "     ⋅ℯ     ⋅ℯ     ⋅sin(θ₁₂)⋅cos(θ₁₃)⋅cos(θ₂₃)⎠⋅ℯ     ⋅sin(θ₁₄)⋅cos(θ₂₄) + ℯ  \n",
       "                                                                              \n",
       " ⅈ⋅φ₁₁  ⅈ⋅φ₂₂  ⅈ⋅φ₂₃                           ⎞  ⅈ⋅φ₂₄                      ⅈ\n",
       "ℯ     ⋅ℯ     ⋅ℯ     ⋅sin(θ₁₂)⋅cos(θ₁₃)⋅cos(θ₂₃)⎠⋅ℯ     ⋅cos(θ₁₄)⋅cos(θ₂₄) + ℯ \n",
       "                                                                              \n",
       " ⎞  ⅈ⋅φ₃₄             ⅈ⋅φ₁₁  ⅈ⋅φ₂₂  ⅈ⋅φ₃₃  ⅈ⋅φ₃₄                              \n",
       ")⎠⋅ℯ     ⋅sin(θ₂₄) + ℯ     ⋅ℯ     ⋅ℯ     ⋅ℯ     ⋅sin(θ₁₂)⋅sin(θ₂₃)⋅cos(θ₂₄)⋅co\n",
       "                                                                              \n",
       "                                                                              \n",
       "(θ₁₂)⋅sin(θ₂₃)⋅cos(θ₃₄)                                                       \n",
       "\n",
       "φ₁₁  ⅈ⋅φ₁₄  ⅈ⋅φ₂₂  ⅈ⋅φ₃₃                                                 ⎛ ⅈ⋅φ\n",
       "   ⋅ℯ     ⋅ℯ     ⋅ℯ     ⋅sin(θ₁₂)⋅sin(θ₁₄)⋅sin(θ₂₃)⋅sin(θ₂₄)⋅cos(θ₃₄)    ⎝ℯ   \n",
       "                                                                              \n",
       "⋅φ₁₁  ⅈ⋅φ₂₂  ⅈ⋅φ₂₄  ⅈ⋅φ₃₃                                                 ⎛ ⅈ⋅\n",
       "    ⋅ℯ     ⋅ℯ     ⋅ℯ     ⋅sin(θ₁₂)⋅sin(θ₂₃)⋅sin(θ₂₄)⋅cos(θ₁₄)⋅cos(θ₃₄)  - ⎝ℯ  \n",
       "                                                                              \n",
       "                                                                              \n",
       "s(θ₃₄)                                                                        \n",
       "                                                                              \n",
       "                                                                              \n",
       "                                                                              \n",
       "\n",
       "₁₂  ⅈ⋅φ₁₃                      ⅈ⋅φ₁₃  ⅈ⋅φ₂₂                           ⎞  ⅈ⋅φ₁₄\n",
       "  ⋅ℯ     ⋅sin(θ₁₂)⋅cos(θ₁₃) + ℯ     ⋅ℯ     ⋅sin(θ₁₃)⋅cos(θ₁₂)⋅cos(θ₂₃)⎠⋅ℯ     \n",
       "                                                                              \n",
       "φ₁₂  ⅈ⋅φ₁₃                      ⅈ⋅φ₁₃  ⅈ⋅φ₂₂                           ⎞  ⅈ⋅φ₂\n",
       "   ⋅ℯ     ⋅sin(θ₁₂)⋅cos(θ₁₃) + ℯ     ⋅ℯ     ⋅sin(θ₁₃)⋅cos(θ₁₂)⋅cos(θ₂₃)⎠⋅ℯ    \n",
       "                                                                              \n",
       "                                                    ⎛   ⅈ⋅φ₁₂  ⅈ⋅φ₂₃          \n",
       "                                                  - ⎝- ℯ     ⋅ℯ     ⋅sin(θ₁₂)⋅\n",
       "                                                                              \n",
       "                                                                              \n",
       "                                                                              \n",
       "\n",
       "            ⎛   ⅈ⋅φ₁₂  ⅈ⋅φ₂₃                      ⅈ⋅φ₂₂  ⅈ⋅φ₂₃                \n",
       "⋅cos(θ₁₄) + ⎝- ℯ     ⋅ℯ     ⋅sin(θ₁₂)⋅sin(θ₁₃) + ℯ     ⋅ℯ     ⋅cos(θ₁₂)⋅cos(θ₁\n",
       "                                                                              \n",
       "₄            ⎛   ⅈ⋅φ₁₂  ⅈ⋅φ₂₃                      ⅈ⋅φ₂₂  ⅈ⋅φ₂₃               \n",
       " ⋅sin(θ₁₄) + ⎝- ℯ     ⋅ℯ     ⋅sin(θ₁₂)⋅sin(θ₁₃) + ℯ     ⋅ℯ     ⋅cos(θ₁₂)⋅cos(θ\n",
       "                                                                              \n",
       "            ⅈ⋅φ₂₂  ⅈ⋅φ₂₃                           ⎞  ⅈ⋅φ₃₄             ⅈ⋅φ₂₂ \n",
       "sin(θ₁₃) + ℯ     ⋅ℯ     ⋅cos(θ₁₂)⋅cos(θ₁₃)⋅cos(θ₂₃)⎠⋅ℯ     ⋅sin(θ₂₄) - ℯ     ⋅\n",
       "                                                                              \n",
       "                            ⅈ⋅φ₂₂  ⅈ⋅φ₃₃  ⅈ⋅φ₄₄                               \n",
       "                          -ℯ     ⋅ℯ     ⋅ℯ     ⋅sin(θ₂₃)⋅cos(θ₁₂)⋅cos(θ₃₄)    \n",
       "\n",
       "           ⎞  ⅈ⋅φ₁₄                      ⅈ⋅φ₁₄  ⅈ⋅φ₂₂  ⅈ⋅φ₃₃                  \n",
       "₃)⋅cos(θ₂₃)⎠⋅ℯ     ⋅sin(θ₁₄)⋅cos(θ₂₄) - ℯ     ⋅ℯ     ⋅ℯ     ⋅sin(θ₁₄)⋅sin(θ₂₃)\n",
       "                                                                              \n",
       "            ⎞  ⅈ⋅φ₂₄                      ⅈ⋅φ₂₂  ⅈ⋅φ₂₄  ⅈ⋅φ₃₃                 \n",
       "₁₃)⋅cos(θ₂₃)⎠⋅ℯ     ⋅cos(θ₁₄)⋅cos(θ₂₄) - ℯ     ⋅ℯ     ⋅ℯ     ⋅sin(θ₂₃)⋅sin(θ₂₄\n",
       "                                                                              \n",
       " ⅈ⋅φ₃₃  ⅈ⋅φ₃₄                                                                 \n",
       "ℯ     ⋅ℯ     ⋅sin(θ₂₃)⋅cos(θ₁₂)⋅cos(θ₂₄)⋅cos(θ₃₄)                             \n",
       "                                                                              \n",
       "                                                                              \n",
       "                                                                              \n",
       "\n",
       "                                ⅈ⋅φ₁₃  ⅈ⋅φ₁₄                               ⅈ⋅φ\n",
       "⋅sin(θ₂₄)⋅cos(θ₁₂)⋅cos(θ₃₄)    ℯ     ⋅ℯ     ⋅sin(θ₁₃)⋅sin(θ₂₃)⋅cos(θ₁₄) + ℯ   \n",
       "                                                                              \n",
       "                                 ⅈ⋅φ₁₃  ⅈ⋅φ₂₄                               ⅈ⋅\n",
       ")⋅cos(θ₁₂)⋅cos(θ₁₄)⋅cos(θ₃₄)  - ℯ     ⋅ℯ     ⋅sin(θ₁₃)⋅sin(θ₁₄)⋅sin(θ₂₃) + ℯ  \n",
       "                                                                              \n",
       "                                                               ⅈ⋅φ₂₃  ⅈ⋅φ₃₄   \n",
       "                                                            - ℯ     ⋅ℯ     ⋅si\n",
       "                                                                              \n",
       "                                                                              \n",
       "                                                                              \n",
       "\n",
       "₁₄  ⅈ⋅φ₂₃                                        ⅈ⋅φ₁₄  ⅈ⋅φ₃₃                 \n",
       "  ⋅ℯ     ⋅sin(θ₁₄)⋅sin(θ₂₃)⋅cos(θ₁₃)⋅cos(θ₂₄) + ℯ     ⋅ℯ     ⋅sin(θ₁₄)⋅sin(θ₂₄\n",
       "                                                                              \n",
       "φ₂₃  ⅈ⋅φ₂₄                                        ⅈ⋅φ₂₄  ⅈ⋅φ₃₃                \n",
       "   ⋅ℯ     ⋅sin(θ₂₃)⋅cos(θ₁₃)⋅cos(θ₁₄)⋅cos(θ₂₄) + ℯ     ⋅ℯ     ⋅sin(θ₂₄)⋅cos(θ₁\n",
       "                                                                              \n",
       "                            ⅈ⋅φ₃₃  ⅈ⋅φ₃₄                                      \n",
       "n(θ₂₃)⋅sin(θ₂₄)⋅cos(θ₁₃) + ℯ     ⋅ℯ     ⋅cos(θ₂₃)⋅cos(θ₂₄)⋅cos(θ₃₄)           \n",
       "                                                                              \n",
       "          ⅈ⋅φ₃₃  ⅈ⋅φ₄₄                                                        \n",
       "         ℯ     ⋅ℯ     ⋅cos(θ₂₃)⋅cos(θ₃₄)                                      \n",
       "\n",
       "                       ⅈ⋅φ₁₄                           ⎤\n",
       ")⋅cos(θ₂₃)⋅cos(θ₃₄)   ℯ     ⋅sin(θ₁₄)⋅sin(θ₂₄)⋅sin(θ₃₄)⎥\n",
       "                                                       ⎥\n",
       "                       ⅈ⋅φ₂₄                           ⎥\n",
       "₄)⋅cos(θ₂₃)⋅cos(θ₃₄)  ℯ     ⋅sin(θ₂₄)⋅sin(θ₃₄)⋅cos(θ₁₄)⎥\n",
       "                                                       ⎥\n",
       "                           ⅈ⋅φ₃₄                       ⎥\n",
       "                          ℯ     ⋅sin(θ₃₄)⋅cos(θ₂₄)     ⎥\n",
       "                                                       ⎥\n",
       "                                ⅈ⋅φ₄₄                  ⎥\n",
       "                               ℯ     ⋅sin(θ₃₄)         ⎦"
      ]
     },
     "execution_count": 13,
     "metadata": {},
     "output_type": "execute_result"
    }
   ],
   "source": [
    "phi4 = m3*Matrix([[phi3.row(0)[0],phi3.row(0)[1],phi3.row(0)[2],0],[phi3.row(1)[0],phi3.row(1)[1],phi3.row(1)[2],0],[phi3.row(2)[0],phi3.row(2)[1],phi3.row(2)[2],0],[0,0,0,1]])\n",
    "phi4"
   ]
  },
  {
   "cell_type": "code",
   "execution_count": 14,
   "metadata": {},
   "outputs": [],
   "source": [
    "def proba(U):\n",
    "    U00 = Matrix([[U.row(0)[0],U.row(0)[1]],[U.row(1)[0],U.row(1)[1]]])\n",
    "    U01 = Matrix([[U.row(0)[2],U.row(0)[3]],[U.row(1)[2],U.row(1)[3]]])\n",
    "    U10 = Matrix([[U.row(2)[0],U.row(2)[1]],[U.row(3)[0],U.row(3)[1]]])\n",
    "    U11 = Matrix([[U.row(3)[2],U.row(3)[3]],[U.row(3)[2],U.row(3)[3]]])\n",
    "    print(U00,U01,U10,U11)\n",
    "    \n",
    "    a = com(U01,U00)**2\n",
    "    b = 1/2*acom(com(U11,U00),com(U01,U00)) + 1/2*acom(com(U10,U01),com(U00,U01))\n",
    "    c = 1/4*com(U10,U01)**2+1/4*com(U11,U00)**2 + 1/4*acom(com(U10,U01),com(U00,U11))\n",
    "    d = 1/sqrt(2)*acom(com(U01,U00),com(U11,U10))\n",
    "    e = 1/2*acom(com(U11,U10),com(U11,U00))+1/2*acom(com(U11,U10),com(U01,U10))\n",
    "    f = com(U11,U10)**2\n",
    "    \n",
    "    return 1/4*(a**2+b**2+c**2+d**2+e**2+f**2)"
   ]
  },
  {
   "cell_type": "code",
   "execution_count": null,
   "metadata": {},
   "outputs": [],
   "source": []
  }
 ],
 "metadata": {
  "kernelspec": {
   "display_name": "Python 3",
   "language": "python",
   "name": "python3"
  },
  "language_info": {
   "codemirror_mode": {
    "name": "ipython",
    "version": 3
   },
   "file_extension": ".py",
   "mimetype": "text/x-python",
   "name": "python",
   "nbconvert_exporter": "python",
   "pygments_lexer": "ipython3",
   "version": "3.7.1"
  }
 },
 "nbformat": 4,
 "nbformat_minor": 2
}
